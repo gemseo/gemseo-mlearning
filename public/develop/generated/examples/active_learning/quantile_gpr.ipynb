{
  "cells": [
    {
      "cell_type": "code",
      "execution_count": null,
      "metadata": {
        "collapsed": false
      },
      "outputs": [],
      "source": [
        "%matplotlib inline"
      ]
    },
    {
      "cell_type": "markdown",
      "metadata": {},
      "source": [
        "# Quantile estimation using a Gaussian process regressor.\n"
      ]
    },
    {
      "cell_type": "code",
      "execution_count": null,
      "metadata": {
        "collapsed": false
      },
      "outputs": [],
      "source": [
        "from __future__ import annotations\n\nfrom gemseo import configure\nfrom gemseo import configure_logger\nfrom gemseo import sample_disciplines\nfrom gemseo.algos.design_space import DesignSpace\nfrom gemseo.algos.parameter_space import ParameterSpace\nfrom gemseo.disciplines.analytic import AnalyticDiscipline\nfrom gemseo.mlearning.regression.algos.gpr import GaussianProcessRegressor\nfrom gemseo.uncertainty.statistics.empirical_statistics import EmpiricalStatistics\n\nfrom gemseo_mlearning.active_learning.active_learning_algo import ActiveLearningAlgo\n\nconfigure(False, False, True, False, False, False, False)\nconfigure_logger()"
      ]
    },
    {
      "cell_type": "markdown",
      "metadata": {},
      "source": [
        "We consider the Rosenbrock function $f(x,y)=(1-x)^2+100(y-x^2)^2$:\n\n"
      ]
    },
    {
      "cell_type": "code",
      "execution_count": null,
      "metadata": {
        "collapsed": false
      },
      "outputs": [],
      "source": [
        "discipline = AnalyticDiscipline({\"z\": \"(1-x)**2+100*(y-x**2)**2\"}, name=\"Rosenbrock\")"
      ]
    },
    {
      "cell_type": "markdown",
      "metadata": {},
      "source": [
        "defined over the input space $[-2,2]^2$:\n\n"
      ]
    },
    {
      "cell_type": "code",
      "execution_count": null,
      "metadata": {
        "collapsed": false
      },
      "outputs": [],
      "source": [
        "input_space = DesignSpace()\ninput_space.add_variable(\"x\", lower_bound=-2, upper_bound=2, value=1.0)\ninput_space.add_variable(\"y\", lower_bound=-2, upper_bound=2, value=1.0)"
      ]
    },
    {
      "cell_type": "markdown",
      "metadata": {},
      "source": [
        "with the uncertain space:\n\n"
      ]
    },
    {
      "cell_type": "code",
      "execution_count": null,
      "metadata": {
        "collapsed": false
      },
      "outputs": [],
      "source": [
        "uncertain_space = ParameterSpace()\nuncertain_space.add_random_variable(\"x\", \"OTUniformDistribution\", minimum=-2, maximum=2)\nuncertain_space.add_random_variable(\"y\", \"OTUniformDistribution\", minimum=-2, maximum=2)"
      ]
    },
    {
      "cell_type": "markdown",
      "metadata": {},
      "source": [
        "First,\nwe create an initial training dataset using an optimal LHS including 30 samples:\n\n"
      ]
    },
    {
      "cell_type": "code",
      "execution_count": null,
      "metadata": {
        "collapsed": false
      },
      "outputs": [],
      "source": [
        "learning_dataset = sample_disciplines([discipline], input_space, \"z\", 10, \"OT_OPT_LHS\")"
      ]
    },
    {
      "cell_type": "markdown",
      "metadata": {},
      "source": [
        "and an initial Gaussian process regressor:\n\n"
      ]
    },
    {
      "cell_type": "code",
      "execution_count": null,
      "metadata": {
        "collapsed": false
      },
      "outputs": [],
      "source": [
        "gpr = GaussianProcessRegressor(learning_dataset)"
      ]
    },
    {
      "cell_type": "markdown",
      "metadata": {},
      "source": [
        "Then,\nwe look for 20 points that will help us get closer to the minimum;\nby default,\nfor this purpose,\nthe active learning algorithm looks for the point maximizing the U-function.\n\n"
      ]
    },
    {
      "cell_type": "code",
      "execution_count": null,
      "metadata": {
        "collapsed": false
      },
      "outputs": [],
      "source": [
        "level = 0.35\nactive_learning = ActiveLearningAlgo(\n    \"Quantile\",\n    input_space,\n    gpr,\n    level=level,\n    uncertain_space=uncertain_space,\n    # criterion_name=\"EF\",\n)\n# active_learning.set_acquisition_algorithm(\"fullfact\", n_samples=30 * 30)\n# active_learning.set_acquisition_algorithm(\"NELDER-MEAD\")\n# active_learning.set_acquisition_algorithm(\"SLSQP\")\nactive_learning.set_acquisition_algorithm(\"DIFFERENTIAL_EVOLUTION\")\nactive_learning.acquire_new_points(discipline, 90)"
      ]
    },
    {
      "cell_type": "markdown",
      "metadata": {},
      "source": [
        "Lastly,\nwe plot the history of the quantity of interest\n\n"
      ]
    },
    {
      "cell_type": "code",
      "execution_count": null,
      "metadata": {
        "collapsed": false
      },
      "outputs": [],
      "source": [
        "active_learning.plot_qoi_history()"
      ]
    },
    {
      "cell_type": "markdown",
      "metadata": {},
      "source": [
        "as well as\nthe training points,\nthe original model,\nthe Gaussian process regressor\nand the U-function\nafter the last acquisition:\n\n"
      ]
    },
    {
      "cell_type": "code",
      "execution_count": null,
      "metadata": {
        "collapsed": false
      },
      "outputs": [],
      "source": [
        "active_learning.plot_acquisition_view(discipline=discipline)\n\ndataset = sample_disciplines(\n    [discipline], uncertain_space, \"z\", 100000, \"OT_MONTE_CARLO\"\n)\nreference_quantile = EmpiricalStatistics(dataset, [\"z\"]).compute_quantile(level)\nprint(reference_quantile, active_learning.qoi)  # noqa"
      ]
    }
  ],
  "metadata": {
    "kernelspec": {
      "display_name": "Python 3",
      "language": "python",
      "name": "python3"
    },
    "language_info": {
      "codemirror_mode": {
        "name": "ipython",
        "version": 3
      },
      "file_extension": ".py",
      "mimetype": "text/x-python",
      "name": "python",
      "nbconvert_exporter": "python",
      "pygments_lexer": "ipython3",
      "version": "3.9.16"
    }
  },
  "nbformat": 4,
  "nbformat_minor": 0
}