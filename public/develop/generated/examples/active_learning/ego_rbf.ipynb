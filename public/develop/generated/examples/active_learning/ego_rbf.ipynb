{
  "cells": [
    {
      "cell_type": "code",
      "execution_count": null,
      "metadata": {
        "collapsed": false
      },
      "outputs": [],
      "source": [
        "%matplotlib inline"
      ]
    },
    {
      "cell_type": "markdown",
      "metadata": {},
      "source": [
        "# EGO based on resampling.\n"
      ]
    },
    {
      "cell_type": "code",
      "execution_count": null,
      "metadata": {
        "collapsed": false
      },
      "outputs": [],
      "source": [
        "from __future__ import annotations\n\nimport matplotlib.gridspec as gridspec\nimport matplotlib.pyplot as plt\nfrom gemseo import configure\nfrom gemseo import configure_logger\nfrom gemseo import sample_disciplines\nfrom gemseo.algos.design_space import DesignSpace\nfrom gemseo.disciplines.analytic import AnalyticDiscipline\nfrom gemseo.mlearning.regression.algos.rbf import RBFRegressor\nfrom numpy import array\nfrom numpy import linspace\nfrom numpy import zeros\n\nfrom gemseo_mlearning.active_learning.acquisition_criteria.minimum.ei import EI\nfrom gemseo_mlearning.active_learning.active_learning_algo import ActiveLearningAlgo\nfrom gemseo_mlearning.active_learning.distributions.regressor_distribution import (\n    RegressorDistribution,\n)\n\nconfigure(False, False, True, False, False, False, False)\nconfigure_logger()\n\nn_test = 20"
      ]
    },
    {
      "cell_type": "markdown",
      "metadata": {},
      "source": [
        "Definition of the discipline\n\n"
      ]
    },
    {
      "cell_type": "code",
      "execution_count": null,
      "metadata": {
        "collapsed": false
      },
      "outputs": [],
      "source": [
        "discipline = AnalyticDiscipline({\"z\": \"(1-x)**2+100*(y-x**2)**2\"}, name=\"Rosenbrock\")"
      ]
    },
    {
      "cell_type": "markdown",
      "metadata": {},
      "source": [
        "## Definition of the input space\n\n"
      ]
    },
    {
      "cell_type": "code",
      "execution_count": null,
      "metadata": {
        "collapsed": false
      },
      "outputs": [],
      "source": [
        "input_space = DesignSpace()\ninput_space.add_variable(\"x\", lower_bound=-2, upper_bound=2, value=1.0)\ninput_space.add_variable(\"y\", lower_bound=-2, upper_bound=2, value=1.0)"
      ]
    },
    {
      "cell_type": "markdown",
      "metadata": {},
      "source": [
        "## Initial surrogate model\n\n"
      ]
    },
    {
      "cell_type": "code",
      "execution_count": null,
      "metadata": {
        "collapsed": false
      },
      "outputs": [],
      "source": [
        "learning_dataset = sample_disciplines([discipline], input_space, \"z\", 30, \"OT_OPT_LHS\")\nalgo = RBFRegressor(learning_dataset)"
      ]
    },
    {
      "cell_type": "markdown",
      "metadata": {},
      "source": [
        "## Universal distribution for this surrogate model\n\n"
      ]
    },
    {
      "cell_type": "code",
      "execution_count": null,
      "metadata": {
        "collapsed": false
      },
      "outputs": [],
      "source": [
        "distribution = RegressorDistribution(algo, bootstrap=False)\ndistribution.learn()"
      ]
    },
    {
      "cell_type": "markdown",
      "metadata": {},
      "source": [
        "## Data acquisition to improve the surrogate model\n\n"
      ]
    },
    {
      "cell_type": "code",
      "execution_count": null,
      "metadata": {
        "collapsed": false
      },
      "outputs": [],
      "source": [
        "acquisition = ActiveLearningAlgo(\"Minimum\", input_space, distribution)\nacquisition.set_acquisition_algorithm(\"fullfact\", n_samples=1000)\nacquisition.acquire_new_points(discipline, 20)\n\nopt = distribution.algo.learning_set.get_view(variable_names=[\"x\", \"y\"]).to_numpy()\nopt_x = opt[:, 0]\nopt_y = opt[:, 1]"
      ]
    },
    {
      "cell_type": "markdown",
      "metadata": {},
      "source": [
        "## Evaluation of discipline and expected improvement\n\n"
      ]
    },
    {
      "cell_type": "code",
      "execution_count": null,
      "metadata": {
        "collapsed": false
      },
      "outputs": [],
      "source": [
        "crit = EI(distribution)\nx_test = linspace(-2, 2, n_test)\ndisc_data = zeros((n_test, n_test))\ncrit_data = zeros((n_test, n_test))\nsurr_data = zeros((n_test, n_test))\nfor i in range(n_test):\n    for j in range(n_test):\n        xij = array([x_test[j], x_test[i]])\n        input_data = {\"x\": array([xij[0]]), \"y\": array([xij[1]])}\n        disc_data[i, j] = discipline.execute(input_data)[\"z\"][0]\n        crit_data[i, j] = crit.func(xij)\n        surr_data[i, j] = algo.predict(xij)[0]"
      ]
    },
    {
      "cell_type": "markdown",
      "metadata": {},
      "source": [
        "## Plotting\n\n"
      ]
    },
    {
      "cell_type": "code",
      "execution_count": null,
      "metadata": {
        "collapsed": false
      },
      "outputs": [],
      "source": [
        "train = learning_dataset.get_view(variable_names=[\"x\", \"y\"]).to_numpy()\nx_train = train[:, 0]\ny_train = train[:, 1]\nfig = plt.figure(constrained_layout=True)\nspec = gridspec.GridSpec(ncols=2, nrows=2, figure=fig)\naxes = [[None, None], [None, None]]\ntitles = [[\"Discipline\", \"Infill criterion\"], [\"Surrogate model\", None]]\ndata = [[disc_data, crit_data], [surr_data, None]]\nfor i in range(2):\n    for j in range(2):\n        if [i, j] != [1, 1]:\n            axes[i][j] = fig.add_subplot(spec[i, j])\n            axes[i][j].contourf(x_test, x_test, data[i][j])\n            axes[i][j].axhline(1, color=\"white\", alpha=0.5)\n            axes[i][j].axvline(1, color=\"white\", alpha=0.5)\n            axes[i][j].plot(x_train, y_train, \"w+\", ms=1)\n            for index, _ in enumerate(opt_x):\n                axes[i][j].plot(opt_x[index], opt_y[index], \"wo\", ms=1)\n                axes[i][j].annotate(\n                    index + 1,\n                    (opt_x[index] + 0.05, opt_y[index] + 0.05),\n                    color=\"white\",\n                )\n            axes[i][j].set_title(titles[i][j])\nplt.show()"
      ]
    }
  ],
  "metadata": {
    "kernelspec": {
      "display_name": "Python 3",
      "language": "python",
      "name": "python3"
    },
    "language_info": {
      "codemirror_mode": {
        "name": "ipython",
        "version": 3
      },
      "file_extension": ".py",
      "mimetype": "text/x-python",
      "name": "python",
      "nbconvert_exporter": "python",
      "pygments_lexer": "ipython3",
      "version": "3.9.19"
    }
  },
  "nbformat": 4,
  "nbformat_minor": 0
}