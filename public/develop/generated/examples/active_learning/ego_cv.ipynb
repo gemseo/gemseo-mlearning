{
  "cells": [
    {
      "cell_type": "code",
      "execution_count": null,
      "metadata": {
        "collapsed": false
      },
      "outputs": [],
      "source": [
        "%matplotlib inline"
      ]
    },
    {
      "cell_type": "markdown",
      "metadata": {},
      "source": [
        "# Expected improvement based on cross-validation.\n"
      ]
    },
    {
      "cell_type": "code",
      "execution_count": null,
      "metadata": {
        "collapsed": false
      },
      "outputs": [],
      "source": [
        "from __future__ import annotations\n\nimport matplotlib.pyplot as plt\nfrom gemseo.algos.design_space import DesignSpace\nfrom gemseo.datasets.io_dataset import IODataset\nfrom gemseo.mlearning.regression.rbf import RBFRegressor\nfrom numpy import array\nfrom numpy import cos\nfrom numpy import linspace\n\nfrom gemseo_mlearning.active_learning.acquisition_criteria.expected_improvement import (\n    ExpectedImprovement,\n)\nfrom gemseo_mlearning.active_learning.acquisition_criteria.mean_sigma import MeanSigma\nfrom gemseo_mlearning.active_learning.active_learning_algo import ActiveLearningAlgo\nfrom gemseo_mlearning.active_learning.distributions.regressor_distribution import (\n    RegressorDistribution,\n)\n\nn_test = 200\nx_l = -3.0\nx_u = 3.0"
      ]
    },
    {
      "cell_type": "markdown",
      "metadata": {},
      "source": [
        "Initial learning dataset\n------------------------\n\n"
      ]
    },
    {
      "cell_type": "code",
      "execution_count": null,
      "metadata": {
        "collapsed": false
      },
      "outputs": [],
      "source": [
        "def f(x):\n    return (10 * cos(2 * x) + 15 - 5 * x + x**2) / 50\n\n\nx_train = array([-2.4, -1.2, 0.0, 1.2, 2.4])\ny_train = f(x_train)\n\ndataset = IODataset()\ndataset.add_input_variable(\"x\", x_train)\ndataset.add_output_variable(\"y\", y_train)"
      ]
    },
    {
      "cell_type": "markdown",
      "metadata": {},
      "source": [
        "Initial surrogate model\n-----------------------\n\n"
      ]
    },
    {
      "cell_type": "code",
      "execution_count": null,
      "metadata": {
        "collapsed": false
      },
      "outputs": [],
      "source": [
        "algo = RBFRegressor(dataset)\nalgo.learn()"
      ]
    },
    {
      "cell_type": "markdown",
      "metadata": {},
      "source": [
        "Create MLAlgoSampler\n--------------------\n\n"
      ]
    },
    {
      "cell_type": "code",
      "execution_count": null,
      "metadata": {
        "collapsed": false
      },
      "outputs": [],
      "source": [
        "distribution = RegressorDistribution(algo, bootstrap=False, loo=True)\ndistribution.learn()"
      ]
    },
    {
      "cell_type": "markdown",
      "metadata": {},
      "source": [
        "Filling objectives\n------------------\n\n"
      ]
    },
    {
      "cell_type": "code",
      "execution_count": null,
      "metadata": {
        "collapsed": false
      },
      "outputs": [],
      "source": [
        "ego = ExpectedImprovement(distribution)\nlower = MeanSigma(distribution, -2.0)\nupper = MeanSigma(distribution, 2.0)"
      ]
    },
    {
      "cell_type": "markdown",
      "metadata": {},
      "source": [
        "Find next training point\n------------------------\n\n"
      ]
    },
    {
      "cell_type": "code",
      "execution_count": null,
      "metadata": {
        "collapsed": false
      },
      "outputs": [],
      "source": [
        "space = DesignSpace()\nspace.add_variable(\"x\", l_b=x_l, u_b=x_u, value=1.5)\n\nacquisition = ActiveLearningAlgo(\"ExpectedImprovement\", space, distribution)\nacquisition.set_acquisition_algorithm(\"fullfact\")\nopt = acquisition.compute_next_input_data()"
      ]
    },
    {
      "cell_type": "markdown",
      "metadata": {},
      "source": [
        "Evaluation of discipline, surrogate model and expected improvement\n------------------------------------------------------------------\n\n"
      ]
    },
    {
      "cell_type": "code",
      "execution_count": null,
      "metadata": {
        "collapsed": false
      },
      "outputs": [],
      "source": [
        "x_test = linspace(x_l, x_u, n_test)\nego_data = []\nsurr_data = []\nlower_data = []\nupper_data = []\ny_test = f(x_test)\nfor x_i in x_test:\n    surr_data.append(algo.predict(array([x_i]))[0])\n    ego_data.append(ego(array([x_i]))[0])\n    lower_data.append(lower(array([x_i]))[0] * lower.output_range)\n    upper_data.append(upper(array([x_i]))[0] * upper.output_range)\nego_data = array(ego_data)\nlower_data = array(lower_data)\nupper_data = array(upper_data)\n\ndisc_data = IODataset()\ndisc_data.add_input_variable(\"x\", x_test)\ndisc_data.add_output_variable(\"y\", y_test)"
      ]
    },
    {
      "cell_type": "markdown",
      "metadata": {},
      "source": [
        "Plotting\n--------\n\n"
      ]
    },
    {
      "cell_type": "code",
      "execution_count": null,
      "metadata": {
        "collapsed": false
      },
      "outputs": [],
      "source": [
        "fig, ax = plt.subplots(2, 1)\nfor algo_b in distribution.algos:\n    algo_data = [algo_b.predict(array([x_i])) for x_i in x_test]\n    ax[0].plot(x_test, algo_data, \"gray\", alpha=0.2)\nax[0].plot(\n    x_train, dataset.get_view(variable_names=\"y\").to_numpy(), \"ro\", label=\"training\"\n)\nax[0].plot(\n    x_test, disc_data.get_view(variable_names=\"y\").to_numpy(), \"r\", label=\"original\"\n)\nax[0].plot(x_test, surr_data, \"b\", label=\"surrogate\")\nax[0].fill_between(\n    x_test, lower_data, upper_data, color=\"b\", alpha=0.1, label=\"CI(95%)\"\n)\nax[0].legend(loc=\"upper right\")\nax[0].axvline(x=opt[0])\nax[1].plot(x_test, ego_data, \"r\", label=\"EGO\")\nax[1].axvline(x=opt[0])\nax[1].legend()\nplt.show()"
      ]
    }
  ],
  "metadata": {
    "kernelspec": {
      "display_name": "Python 3",
      "language": "python",
      "name": "python3"
    },
    "language_info": {
      "codemirror_mode": {
        "name": "ipython",
        "version": 3
      },
      "file_extension": ".py",
      "mimetype": "text/x-python",
      "name": "python",
      "nbconvert_exporter": "python",
      "pygments_lexer": "ipython3",
      "version": "3.9.16"
    }
  },
  "nbformat": 4,
  "nbformat_minor": 0
}