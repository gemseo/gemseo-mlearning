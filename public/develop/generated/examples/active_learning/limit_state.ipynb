{
  "cells": [
    {
      "cell_type": "code",
      "execution_count": null,
      "metadata": {
        "collapsed": false
      },
      "outputs": [],
      "source": [
        "%matplotlib inline"
      ]
    },
    {
      "cell_type": "markdown",
      "metadata": {},
      "source": [
        "# Limit state based on resampling.\n"
      ]
    },
    {
      "cell_type": "code",
      "execution_count": null,
      "metadata": {
        "collapsed": false
      },
      "outputs": [],
      "source": [
        "from __future__ import annotations\n\nimport matplotlib.gridspec as gridspec\nimport matplotlib.pyplot as plt\nfrom gemseo.algos.design_space import DesignSpace\nfrom gemseo.disciplines.analytic import AnalyticDiscipline\nfrom gemseo.mlearning.regression.algos.rbf import RBFRegressor\nfrom numpy import array\nfrom numpy import linspace\nfrom numpy import zeros\n\nfrom gemseo_mlearning import sample_discipline\nfrom gemseo_mlearning.active_learning.acquisition_criteria.quantile import Quantile\nfrom gemseo_mlearning.active_learning.active_learning_algo import ActiveLearningAlgo\nfrom gemseo_mlearning.active_learning.distributions.regressor_distribution import (\n    RegressorDistribution,\n)\n\nl_b = -2\nu_b = 2\n\nn_test = 20\nlevel = 0.8"
      ]
    },
    {
      "cell_type": "markdown",
      "metadata": {},
      "source": [
        "Definition of the discipline\n----------------------------\n\n"
      ]
    },
    {
      "cell_type": "code",
      "execution_count": null,
      "metadata": {
        "collapsed": false
      },
      "outputs": [],
      "source": [
        "discipline = AnalyticDiscipline({\"z\": \"(1-x)**2+100*(y-x**2)**2\"}, name=\"Rosenbrock\")"
      ]
    },
    {
      "cell_type": "markdown",
      "metadata": {},
      "source": [
        "Definition of the input space\n-----------------------------\n\n"
      ]
    },
    {
      "cell_type": "code",
      "execution_count": null,
      "metadata": {
        "collapsed": false
      },
      "outputs": [],
      "source": [
        "input_space = DesignSpace()\ninput_space.add_variable(\"x\", l_b=-2, u_b=2, value=1.0)\ninput_space.add_variable(\"y\", l_b=-2, u_b=2, value=1.0)"
      ]
    },
    {
      "cell_type": "markdown",
      "metadata": {},
      "source": [
        "Initial surrogate model\n-----------------------\n\n"
      ]
    },
    {
      "cell_type": "code",
      "execution_count": null,
      "metadata": {
        "collapsed": false
      },
      "outputs": [],
      "source": [
        "learning_dataset = sample_discipline(discipline, input_space, \"z\", \"OT_OPT_LHS\", 30)\nalgo = RBFRegressor(learning_dataset)"
      ]
    },
    {
      "cell_type": "markdown",
      "metadata": {},
      "source": [
        "Universal distribution for this surrogate model\n-----------------------------------------------\n\n"
      ]
    },
    {
      "cell_type": "code",
      "execution_count": null,
      "metadata": {
        "collapsed": false
      },
      "outputs": [],
      "source": [
        "distribution = RegressorDistribution(algo, bootstrap=False)\ndistribution.learn()"
      ]
    },
    {
      "cell_type": "markdown",
      "metadata": {},
      "source": [
        "Data acquisition to improve the surrogate model\n-----------------------------------------------\n\n"
      ]
    },
    {
      "cell_type": "code",
      "execution_count": null,
      "metadata": {
        "collapsed": false
      },
      "outputs": [],
      "source": [
        "acquisition = ActiveLearningAlgo(\"Quantile\", input_space, distribution, level=level)\nacquisition.set_acquisition_algorithm(\"fullfact\", n_samples=1000)\nacquisition.update_algo(discipline, 20)\n\npoints = distribution.algo.learning_set[[\"x\", \"y\"]]\npoints_x = points[\"x\"]\npoints_y = points[\"y\"]"
      ]
    },
    {
      "cell_type": "markdown",
      "metadata": {},
      "source": [
        "Evaluation of discipline and expected improvement\n-------------------------------------------------\n\n"
      ]
    },
    {
      "cell_type": "code",
      "execution_count": null,
      "metadata": {
        "collapsed": false
      },
      "outputs": [],
      "source": [
        "crit = Quantile(distribution, level)\nx_test = linspace(l_b, u_b, n_test)\ndisc_data = zeros((n_test, n_test))\ncrit_data = zeros((n_test, n_test))\nsurr_data = zeros((n_test, n_test))\nfor i in range(n_test):\n    for j in range(n_test):\n        xij = array([x_test[j], x_test[i]])\n        input_data = {\"x\": array([xij[0]]), \"y\": array([xij[1]])}\n        disc_data[i, j] = discipline.execute(input_data)[\"z\"][0]\n        crit_data[i, j] = crit(xij)\n        surr_data[i, j] = algo.predict(xij)[0]"
      ]
    },
    {
      "cell_type": "markdown",
      "metadata": {},
      "source": [
        "Plotting\n--------\n\n"
      ]
    },
    {
      "cell_type": "code",
      "execution_count": null,
      "metadata": {
        "collapsed": false
      },
      "outputs": [],
      "source": [
        "train = learning_dataset.get_view(variable_names=[\"x\", \"y\"]).to_numpy()\nx_train = train[\"x\"]\ny_train = train[\"y\"]\nfig = plt.figure(constrained_layout=True)\nspec = gridspec.GridSpec(ncols=2, nrows=2, figure=fig)\naxes = [[None, None], [None, None]]\ntitles = [[\"Discipline\", \"Infill criterion\"], [\"Surrogate model\", None]]\ndata = [[disc_data, crit_data], [surr_data, None]]\nfor i in range(2):\n    for j in range(2):\n        if [i, j] != [1, 1]:\n            axes[i][j] = fig.add_subplot(spec[i, j])\n            axes[i][j].contourf(x_test, x_test, data[i][j])\n            axes[i][j].plot(x_train[:, 0], y_train[:, 0], \"w+\", ms=1)\n            for index, _ in enumerate(points_x):\n                axes[i][j].plot(points_x[index, 0], points_y[index, 0], \"wo\", ms=1)\n                axes[i][j].annotate(\n                    index + 1,\n                    (points_x[index, 0] + 0.05, points_y[index, 0] + 0.05),\n                    color=\"white\",\n                )\n            axes[i][j].set_title(titles[i][j])\nplt.show()"
      ]
    }
  ],
  "metadata": {
    "kernelspec": {
      "display_name": "Python 3",
      "language": "python",
      "name": "python3"
    },
    "language_info": {
      "codemirror_mode": {
        "name": "ipython",
        "version": 3
      },
      "file_extension": ".py",
      "mimetype": "text/x-python",
      "name": "python",
      "nbconvert_exporter": "python",
      "pygments_lexer": "ipython3",
      "version": "3.9.16"
    }
  },
  "nbformat": 4,
  "nbformat_minor": 0
}