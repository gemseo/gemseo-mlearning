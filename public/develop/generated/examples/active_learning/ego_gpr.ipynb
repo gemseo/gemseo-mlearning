{
  "cells": [
    {
      "cell_type": "code",
      "execution_count": null,
      "metadata": {
        "collapsed": false
      },
      "outputs": [],
      "source": [
        "%matplotlib inline"
      ]
    },
    {
      "cell_type": "markdown",
      "metadata": {},
      "source": [
        "# Efficient global optimization using a Gaussian process regressor.\n"
      ]
    },
    {
      "cell_type": "code",
      "execution_count": null,
      "metadata": {
        "collapsed": false
      },
      "outputs": [],
      "source": [
        "from __future__ import annotations\n\nfrom gemseo import configure\nfrom gemseo import configure_logger\nfrom gemseo import sample_disciplines\nfrom gemseo.algos.design_space import DesignSpace\nfrom gemseo.disciplines.analytic import AnalyticDiscipline\nfrom gemseo.mlearning.regression.algos.gpr import GaussianProcessRegressor\n\nfrom gemseo_mlearning.active_learning.active_learning_algo import ActiveLearningAlgo\n\nconfigure(False, False, True, False, False, False, False)\nconfigure_logger()"
      ]
    },
    {
      "cell_type": "markdown",
      "metadata": {},
      "source": [
        "We consider the Rosenbrock function $f(x,y)=(1-x)^2+100(y-x^2)^2$:\n\n"
      ]
    },
    {
      "cell_type": "code",
      "execution_count": null,
      "metadata": {
        "collapsed": false
      },
      "outputs": [],
      "source": [
        "discipline = AnalyticDiscipline({\"z\": \"(1-x)**2+100*(y-x**2)**2\"}, name=\"Rosenbrock\")"
      ]
    },
    {
      "cell_type": "markdown",
      "metadata": {},
      "source": [
        "defined over the input space $[-2,2]^2$:\n\n"
      ]
    },
    {
      "cell_type": "code",
      "execution_count": null,
      "metadata": {
        "collapsed": false
      },
      "outputs": [],
      "source": [
        "input_space = DesignSpace()\ninput_space.add_variable(\"x\", lower_bound=-2, upper_bound=2, value=1.0)\ninput_space.add_variable(\"y\", lower_bound=-2, upper_bound=2, value=1.0)"
      ]
    },
    {
      "cell_type": "markdown",
      "metadata": {},
      "source": [
        "First,\nwe create an initial training dataset using an optimal LHS including 30 samples:\n\n"
      ]
    },
    {
      "cell_type": "code",
      "execution_count": null,
      "metadata": {
        "collapsed": false
      },
      "outputs": [],
      "source": [
        "learning_dataset = sample_disciplines([discipline], input_space, \"z\", 30, \"OT_OPT_LHS\")"
      ]
    },
    {
      "cell_type": "markdown",
      "metadata": {},
      "source": [
        "and an initial Gaussian process regressor:\n\n"
      ]
    },
    {
      "cell_type": "code",
      "execution_count": null,
      "metadata": {
        "collapsed": false
      },
      "outputs": [],
      "source": [
        "gpr = GaussianProcessRegressor(learning_dataset)"
      ]
    },
    {
      "cell_type": "markdown",
      "metadata": {},
      "source": [
        "Thirdly,\nwe look for 20 points that will help us get closer to the minimum;\nby default,\nfor this purpose,\nthe active learning algorithm looks for the point maximizing the expected improvement.\n\n"
      ]
    },
    {
      "cell_type": "code",
      "execution_count": null,
      "metadata": {
        "collapsed": false
      },
      "outputs": [],
      "source": [
        "active_learning = ActiveLearningAlgo(\"Minimum\", input_space, gpr)\nactive_learning.set_acquisition_algorithm(\"DIFFERENTIAL_EVOLUTION\", max_iter=1000)\n# active_learning.set_acquisition_algorithm(\"fullfact\", n_samples=30 * 30)\nactive_learning.acquire_new_points(discipline, 20)"
      ]
    },
    {
      "cell_type": "markdown",
      "metadata": {},
      "source": [
        "Lastly,\nwe plot the training points,\nthe original model,\nthe Gaussian process regressor\nand the expected improvement\nafter the last acquisition:\n\n"
      ]
    },
    {
      "cell_type": "code",
      "execution_count": null,
      "metadata": {
        "collapsed": false
      },
      "outputs": [],
      "source": [
        "active_learning.plot_acquisition_view(discipline=discipline)"
      ]
    }
  ],
  "metadata": {
    "kernelspec": {
      "display_name": "Python 3",
      "language": "python",
      "name": "python3"
    },
    "language_info": {
      "codemirror_mode": {
        "name": "ipython",
        "version": 3
      },
      "file_extension": ".py",
      "mimetype": "text/x-python",
      "name": "python",
      "nbconvert_exporter": "python",
      "pygments_lexer": "ipython3",
      "version": "3.9.19"
    }
  },
  "nbformat": 4,
  "nbformat_minor": 0
}