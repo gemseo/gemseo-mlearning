{
  "cells": [
    {
      "cell_type": "code",
      "execution_count": null,
      "metadata": {
        "collapsed": false
      },
      "outputs": [],
      "source": [
        "%matplotlib inline"
      ]
    },
    {
      "cell_type": "markdown",
      "metadata": {},
      "source": [
        "# Surrogate-based optimization of Rastrigin's function.\n"
      ]
    },
    {
      "cell_type": "code",
      "execution_count": null,
      "metadata": {
        "collapsed": false
      },
      "outputs": [],
      "source": [
        "from __future__ import annotations\n\nfrom gemseo import configure_logger\nfrom gemseo import execute_algo\nfrom gemseo import execute_post\nfrom gemseo.problems.optimization.rastrigin import Rastrigin\n\nconfigure_logger()\n\nproblem = Rastrigin()\n\nexecute_algo(\n    problem,\n    algo_name=\"SBO\",\n    acquisition_options={\n        \"max_iter\": 1000,\n        \"popsize\": 50,\n        \"stop_crit_n_x\": 10000,\n    },\n    max_iter=20,\n)\n\nexecute_post(problem, \"OptHistoryView\", save=False, show=True)"
      ]
    }
  ],
  "metadata": {
    "kernelspec": {
      "display_name": "Python 3",
      "language": "python",
      "name": "python3"
    },
    "language_info": {
      "codemirror_mode": {
        "name": "ipython",
        "version": 3
      },
      "file_extension": ".py",
      "mimetype": "text/x-python",
      "name": "python",
      "nbconvert_exporter": "python",
      "pygments_lexer": "ipython3",
      "version": "3.9.16"
    }
  },
  "nbformat": 4,
  "nbformat_minor": 0
}