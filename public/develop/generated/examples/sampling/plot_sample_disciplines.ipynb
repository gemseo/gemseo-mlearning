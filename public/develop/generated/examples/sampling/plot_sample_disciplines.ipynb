{
  "cells": [
    {
      "cell_type": "code",
      "execution_count": null,
      "metadata": {
        "collapsed": false
      },
      "outputs": [],
      "source": [
        "%matplotlib inline"
      ]
    },
    {
      "cell_type": "markdown",
      "metadata": {},
      "source": [
        "# Sample several disciplines.\n"
      ]
    },
    {
      "cell_type": "code",
      "execution_count": null,
      "metadata": {
        "collapsed": false
      },
      "outputs": [],
      "source": [
        "from __future__ import annotations\n\nfrom gemseo.algos.design_space import DesignSpace\nfrom gemseo.disciplines.analytic import AnalyticDiscipline\n\nfrom gemseo_mlearning import sample_disciplines\n\ndisciplines = [\n    AnalyticDiscipline({\"y1\": \"x0+x1+y2\"}),\n    AnalyticDiscipline({\"y2\": \"x0+x2+2*y1\"}),\n    AnalyticDiscipline({\"y0\": \"x0+y1+y2\"}),\n]\n\ninput_space = DesignSpace()\ninput_space.add_variable(\"x0\", l_b=0.0, u_b=1.0)\ninput_space.add_variable(\"x1\", l_b=0.0, u_b=1.0)\ninput_space.add_variable(\"x2\", l_b=0.0, u_b=1.0)\n\ndataset = sample_disciplines(\n    disciplines, \"MDF\", input_space, [\"y0\", \"y2\"], \"fullfact\", 10\n)\ndataset"
      ]
    }
  ],
  "metadata": {
    "kernelspec": {
      "display_name": "Python 3",
      "language": "python",
      "name": "python3"
    },
    "language_info": {
      "codemirror_mode": {
        "name": "ipython",
        "version": 3
      },
      "file_extension": ".py",
      "mimetype": "text/x-python",
      "name": "python",
      "nbconvert_exporter": "python",
      "pygments_lexer": "ipython3",
      "version": "3.9.16"
    }
  },
  "nbformat": 4,
  "nbformat_minor": 0
}