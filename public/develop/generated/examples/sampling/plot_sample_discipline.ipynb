{
  "cells": [
    {
      "cell_type": "code",
      "execution_count": null,
      "metadata": {
        "collapsed": false
      },
      "outputs": [],
      "source": [
        "%matplotlib inline"
      ]
    },
    {
      "cell_type": "markdown",
      "metadata": {},
      "source": [
        "# Sample a discipline.\n"
      ]
    },
    {
      "cell_type": "code",
      "execution_count": null,
      "metadata": {
        "collapsed": false
      },
      "outputs": [],
      "source": [
        "from __future__ import annotations\n\nfrom gemseo.algos.design_space import DesignSpace\nfrom gemseo.disciplines.analytic import AnalyticDiscipline\n\nfrom gemseo_mlearning import sample_discipline\n\ndiscipline = AnalyticDiscipline({\"y\": \"2*x\", \"z\": \"3*x\"})\n\ninput_space = DesignSpace()\ninput_space.add_variable(\"x\", l_b=0.0, u_b=1.0)\n\ndataset = sample_discipline(discipline, input_space, [\"y\", \"z\"], \"fullfact\", 10)\ndataset"
      ]
    }
  ],
  "metadata": {
    "kernelspec": {
      "display_name": "Python 3",
      "language": "python",
      "name": "python3"
    },
    "language_info": {
      "codemirror_mode": {
        "name": "ipython",
        "version": 3
      },
      "file_extension": ".py",
      "mimetype": "text/x-python",
      "name": "python",
      "nbconvert_exporter": "python",
      "pygments_lexer": "ipython3",
      "version": "3.9.16"
    }
  },
  "nbformat": 4,
  "nbformat_minor": 0
}